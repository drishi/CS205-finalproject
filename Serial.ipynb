{
 "cells": [
  {
   "cell_type": "code",
   "execution_count": 20,
   "metadata": {
    "collapsed": true
   },
   "outputs": [],
   "source": [
    "import cPickle as pickle\n",
    "from bs4 import BeautifulSoup"
   ]
  },
  {
   "cell_type": "code",
   "execution_count": 143,
   "metadata": {
    "collapsed": false
   },
   "outputs": [],
   "source": [
    "import nltk\n",
    "from nltk.stem.porter import *"
   ]
  },
  {
   "cell_type": "code",
   "execution_count": 211,
   "metadata": {
    "collapsed": true
   },
   "outputs": [],
   "source": [
    "import numpy as np"
   ]
  },
  {
   "cell_type": "code",
   "execution_count": 61,
   "metadata": {
    "collapsed": false
   },
   "outputs": [],
   "source": [
    "from HTMLParser import HTMLParser\n",
    "\n",
    "class MLStripper(HTMLParser):\n",
    "    def __init__(self):\n",
    "        self.reset()\n",
    "        self.fed = []\n",
    "    def handle_data(self, d):\n",
    "        self.fed.append(d)\n",
    "    def get_data(self):\n",
    "        return ''.join(self.fed)\n",
    "\n",
    "def strip_tags(html):\n",
    "    s = MLStripper()\n",
    "    s.feed(html)\n",
    "    return s.get_data()"
   ]
  },
  {
   "cell_type": "code",
   "execution_count": 193,
   "metadata": {
    "collapsed": true
   },
   "outputs": [],
   "source": [
    "questions = pickle.load(open(\"lstOfQuestions.pkl\", \"rb\"))"
   ]
  },
  {
   "cell_type": "code",
   "execution_count": 210,
   "metadata": {
    "collapsed": false
   },
   "outputs": [
    {
     "name": "stdout",
     "output_type": "stream",
     "text": [
      "0\n",
      "29976\n",
      "59952\n",
      "89928\n",
      "119904\n",
      "149880\n",
      "179856\n",
      "209832\n",
      "239808\n",
      "269784\n"
     ]
    }
   ],
   "source": [
    "words_dict = {}\n",
    "question_texts = []\n",
    "total = len(questions)\n",
    "count = 0\n",
    "for question in questions :\n",
    "    if count % (total / 10) == 0:\n",
    "        print count\n",
    "    VALID_TAGS = ['p']\n",
    "\n",
    "    soup = BeautifulSoup(question['body'])\n",
    "\n",
    "    VALID_TAGS = ['p']\n",
    "    INVALID_TAGS = ['code', 'a']\n",
    "\n",
    "    text = ' '.join([s.get_text() for s in soup('p')])\n",
    "\n",
    "    tokens = nltk.word_tokenize(text)\n",
    "\n",
    "    stemmer = PorterStemmer()\n",
    "\n",
    "    words = [stemmer.stem(token.lower()) for token in tokens]\n",
    "\n",
    "    question_texts.append(words)\n",
    "    \n",
    "    for word in words :\n",
    "        if word in words_dict :\n",
    "            words_dict[word] += 1\n",
    "        else :\n",
    "            words_dict[word] = 1\n",
    "    \n",
    "    count += 1"
   ]
  },
  {
   "cell_type": "code",
   "execution_count": 212,
   "metadata": {
    "collapsed": true
   },
   "outputs": [],
   "source": [
    "# Go through dictionary, removing entries that have a value less\n",
    "# than delta\n",
    "delta = 5\n",
    "words_dict = {key: value for key, value in words_dict.items()\n",
    "                 if value >= delta }\n",
    "\n",
    "word_indices = {}\n",
    "index = 0\n",
    "for word in words_dict :\n",
    "    word_indices[word] = index\n",
    "    index += 1"
   ]
  },
  {
   "cell_type": "code",
   "execution_count": 215,
   "metadata": {
    "collapsed": true
   },
   "outputs": [],
   "source": [
    "# Determine Term Frequencies\n",
    "tf_vectors = []\n",
    "for text in question_texts :\n",
    "    vector = np.zeros(len(word_indices))\n",
    "    for word in text :\n",
    "        if word in word_indices :\n",
    "            vector[word_indices[word]] += 1\n",
    "    tf_vectors.append(vector)"
   ]
  },
  {
   "cell_type": "code",
   "execution_count": 223,
   "metadata": {
    "collapsed": false
   },
   "outputs": [],
   "source": [
    "# Determine IDFS\n",
    "num_docs_vector = np.zeros(len(word_indices))\n",
    "N = float(len(questions))\n",
    "for text in question_texts :\n",
    "    temp_dict = {}\n",
    "    for word in text :\n",
    "        if word in word_indices :\n",
    "            if word in temp_dict :\n",
    "                continue\n",
    "            else :\n",
    "                temp_dict[word] = True\n",
    "                num_docs_vector[word_indices[word]] += 1\n",
    "\n",
    "idf_vector = np.log(N / num_docs_vector)                "
   ]
  },
  {
   "cell_type": "code",
   "execution_count": 232,
   "metadata": {
    "collapsed": false
   },
   "outputs": [],
   "source": [
    "tf_vectors = np.array(tf_vectors)"
   ]
  },
  {
   "cell_type": "code",
   "execution_count": 236,
   "metadata": {
    "collapsed": false
   },
   "outputs": [],
   "source": [
    "tfidf_vectors = tf_vectors * idf_vector[None, :]"
   ]
  },
  {
   "cell_type": "code",
   "execution_count": 244,
   "metadata": {
    "collapsed": true
   },
   "outputs": [],
   "source": [
    "tfidf_norms = np.linalg.norm(tfidf_vectors, axis=1)"
   ]
  },
  {
   "cell_type": "code",
   "execution_count": 245,
   "metadata": {
    "collapsed": false
   },
   "outputs": [
    {
     "data": {
      "text/plain": [
       "(299760,)"
      ]
     },
     "execution_count": 245,
     "metadata": {},
     "output_type": "execute_result"
    }
   ],
   "source": [
    "tfidf_norms.shape"
   ]
  },
  {
   "cell_type": "code",
   "execution_count": 247,
   "metadata": {
    "collapsed": true
   },
   "outputs": [],
   "source": [
    "example = tfidf_vectors[0]"
   ]
  },
  {
   "cell_type": "code",
   "execution_count": 251,
   "metadata": {
    "collapsed": false
   },
   "outputs": [],
   "source": [
    "results = tfidf_vectors.dot(example) / (np.linalg.norm(example) * tfidf_norms)"
   ]
  },
  {
   "cell_type": "code",
   "execution_count": 252,
   "metadata": {
    "collapsed": false
   },
   "outputs": [
    {
     "data": {
      "text/plain": [
       "array([ 1.        ,  0.0252973 ,  0.01509236, ...,  0.02882916,\n",
       "        0.04584923,  0.03577984])"
      ]
     },
     "execution_count": 252,
     "metadata": {},
     "output_type": "execute_result"
    }
   ],
   "source": [
    "results"
   ]
  },
  {
   "cell_type": "code",
   "execution_count": 253,
   "metadata": {
    "collapsed": true
   },
   "outputs": [],
   "source": [
    "results[0] = 0"
   ]
  },
  {
   "cell_type": "code",
   "execution_count": 254,
   "metadata": {
    "collapsed": false
   },
   "outputs": [
    {
     "data": {
      "text/plain": [
       "array([ 0.        ,  0.0252973 ,  0.01509236, ...,  0.02882916,\n",
       "        0.04584923,  0.03577984])"
      ]
     },
     "execution_count": 254,
     "metadata": {},
     "output_type": "execute_result"
    }
   ],
   "source": [
    "results"
   ]
  },
  {
   "cell_type": "code",
   "execution_count": 259,
   "metadata": {
    "collapsed": false
   },
   "outputs": [],
   "source": [
    "results[results == 1.0] = 0"
   ]
  },
  {
   "cell_type": "code",
   "execution_count": 260,
   "metadata": {
    "collapsed": false
   },
   "outputs": [
    {
     "data": {
      "text/plain": [
       "10050"
      ]
     },
     "execution_count": 260,
     "metadata": {},
     "output_type": "execute_result"
    }
   ],
   "source": [
    "np.argmax(results)"
   ]
  },
  {
   "cell_type": "code",
   "execution_count": 261,
   "metadata": {
    "collapsed": false
   },
   "outputs": [
    {
     "data": {
      "text/plain": [
       "0.13626589854042973"
      ]
     },
     "execution_count": 261,
     "metadata": {},
     "output_type": "execute_result"
    }
   ],
   "source": [
    "results[10050]"
   ]
  },
  {
   "cell_type": "code",
   "execution_count": 262,
   "metadata": {
    "collapsed": false
   },
   "outputs": [
    {
     "data": {
      "text/plain": [
       "{u'answer_count': 1,\n",
       " u'body': u\"<p>I am trying to create a custom layout for my blog listing and blog content display pages.</p>\\n\\n<p>The following url will display all the latest blogs based on the conditions that I have set.</p>\\n\\n<p><code>http://fqdn/general-blog</code></p>\\n\\n<p>When I click on the 'Read more' button corresponding to a button, it will display the full blog contents in another page.</p>\\n\\n<p>Sample format : <code>http://fqdn/general-blog/tourist-details</code></p>\\n\\n<p>I am able to modify the layout of the page corresponding to blog listing. For this, I have created a custom tpl file : page--general-blog.tpl.php.</p>\\n\\n<p>What I want is to create a new template file for displaying the contents of individual blogs.</p>\\n\\n<p>The individual blog content display page is not entering - page--general-blog.tpl.php file. It's always using the template - page.tpl.php.</p>\\n\\n<p>I tried creating separate tpl files like :</p>\\n\\n<p><code>page--general-blog--%.tpl.php</code></p>\\n\\n<p>But, the changes in this template is not getting effect in the individual blog content display page.</p>\\n\\n<p>How should I move forward. Has someone had any similar situations?</p>\\n\",\n",
       " u'creation_date': 1447419239,\n",
       " u'is_answered': False,\n",
       " u'last_activity_date': 1447571919,\n",
       " u'last_edit_date': 1447462342,\n",
       " u'link': u'http://stackoverflow.com/questions/33693210/custom-template-file-for-displaying-the-inner-blog-contents',\n",
       " u'owner': {u'accept_rate': 33,\n",
       "  u'display_name': u'Sreenath',\n",
       "  u'link': u'http://stackoverflow.com/users/1180293/sreenath',\n",
       "  u'profile_image': u'https://www.gravatar.com/avatar/cebdc6b0607a7999e0e0ca4f44ecf558?s=128&d=identicon&r=PG',\n",
       "  u'reputation': 83,\n",
       "  u'user_id': 1180293,\n",
       "  u'user_type': u'registered'},\n",
       " u'question_id': 33693210,\n",
       " u'score': 0,\n",
       " u'tags': [u'drupal', u'drupal-views'],\n",
       " u'title': u'Custom template file for displaying the inner blog contents',\n",
       " u'view_count': 9}"
      ]
     },
     "execution_count": 262,
     "metadata": {},
     "output_type": "execute_result"
    }
   ],
   "source": [
    "questions[10050]"
   ]
  },
  {
   "cell_type": "code",
   "execution_count": 263,
   "metadata": {
    "collapsed": false
   },
   "outputs": [
    {
     "data": {
      "text/plain": [
       "{u'answer_count': 1,\n",
       " u'body': u'<p>The problem I am encountering is strange. Suppose I have:</p>\\n\\n<pre><code> a = \"www.XXXXXXX.com\"\\n b = \"www.XXXXXXX.com/laskdfj/=*&amp;9809f/12-613\"\\n c = \"www.XXXX.comllkjldfjlsadjfjldsf\"\\n d = \"http://www.XXXX.CoMmasldfjl\"\\n e = \"www.XXX.us/sdf\"\\n f = \"www.XXX.us0948klsdf\"\\n</code></pre>\\n\\n<p>If following after the \".com\" or \".us\" is not a slash, then remove it. So the result would be like:</p>\\n\\n<pre><code> a = \"www.XXXXXXX.com\"\\n b = \"www.XXXXXXX.com/laskdfj/=*&amp;9809f/12-613\"\\n c = \"www.XXXX.com\"\\n d = \"http://www.XXXX.CoM\"\\n e = \"www.XXX.us/sdf\"\\n f = \"www.XXX.us\"\\n</code></pre>\\n\\n<p>Regular expression is new to me, and I read several blogs about regular expression, none of them seem to talk about how to use if-statement to handle my situation... any hints?</p>\\n',\n",
       " u'creation_date': 1447570358,\n",
       " u'is_answered': True,\n",
       " u'last_activity_date': 1447571841,\n",
       " u'last_edit_date': 1447571841,\n",
       " u'link': u'http://stackoverflow.com/questions/33717216/how-to-remove-anything-after-a-non-backslash-character-in-a-string',\n",
       " u'owner': {u'accept_rate': 0,\n",
       "  u'display_name': u'user3697665',\n",
       "  u'link': u'http://stackoverflow.com/users/3697665/user3697665',\n",
       "  u'profile_image': u'https://graph.facebook.com/100001555202310/picture?type=large',\n",
       "  u'reputation': 41,\n",
       "  u'user_id': 3697665,\n",
       "  u'user_type': u'registered'},\n",
       " u'question_id': 33717216,\n",
       " u'score': 0,\n",
       " u'tags': [u'regex', u'r', u'grep', u'gsub'],\n",
       " u'title': u'How to remove anything after a non-backslash character in a string?',\n",
       " u'view_count': 12}"
      ]
     },
     "execution_count": 263,
     "metadata": {},
     "output_type": "execute_result"
    }
   ],
   "source": [
    "questions[0]"
   ]
  },
  {
   "cell_type": "code",
   "execution_count": null,
   "metadata": {
    "collapsed": true
   },
   "outputs": [],
   "source": []
  }
 ],
 "metadata": {
  "kernelspec": {
   "display_name": "Python 2",
   "language": "python",
   "name": "python2"
  },
  "language_info": {
   "codemirror_mode": {
    "name": "ipython",
    "version": 2
   },
   "file_extension": ".py",
   "mimetype": "text/x-python",
   "name": "python",
   "nbconvert_exporter": "python",
   "pygments_lexer": "ipython2",
   "version": "2.7.10"
  }
 },
 "nbformat": 4,
 "nbformat_minor": 0
}
